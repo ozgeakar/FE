{
  "nbformat": 4,
  "nbformat_minor": 0,
  "metadata": {
    "colab": {
      "provenance": [],
      "include_colab_link": true
    },
    "kernelspec": {
      "name": "python3",
      "display_name": "Python 3"
    },
    "language_info": {
      "name": "python"
    }
  },
  "cells": [
    {
      "cell_type": "markdown",
      "metadata": {
        "id": "view-in-github",
        "colab_type": "text"
      },
      "source": [
        "<a href=\"https://colab.research.google.com/github/ozgeakar/FE/blob/main/Ozge_Akar_ADS523Finalsecondopart.ipynb\" target=\"_parent\"><img src=\"https://colab.research.google.com/assets/colab-badge.svg\" alt=\"Open In Colab\"/></a>"
      ]
    },
    {
      "cell_type": "markdown",
      "source": [
        "[![Open in Colab](https://colab.research.google.com/assets/colab-badge.svg)](https://colab.research.google.com/github/y-akbal/Tedu_Time_Series/blob/main/exam/ADS523Finalsecondopart.ipynb)"
      ],
      "metadata": {
        "id": "wDiLXlUXddQE"
      }
    },
    {
      "cell_type": "code",
      "execution_count": null,
      "metadata": {
        "id": "SyUQ7Heg7ImF"
      },
      "outputs": [],
      "source": [
        "import os\n",
        "import matplotlib.pyplot as plt\n",
        "import sklearn\n",
        "import numpy as np\n",
        "import pandas as pd"
      ]
    },
    {
      "cell_type": "code",
      "source": [
        "def download_data():  \n",
        "  import requests\n",
        "  url = \"https://raw.githubusercontent.com/yakbal-y/ds/main/tsfinal02.csv\"\n",
        "  res = requests.get(url, allow_redirects=True)\n",
        "  with open('tsfinal02.csv','wb') as file:\n",
        "    file.write(res.content)\n",
        "\n",
        "download_data()"
      ],
      "metadata": {
        "id": "Cgv-xcl53GwH"
      },
      "execution_count": null,
      "outputs": []
    },
    {
      "cell_type": "code",
      "source": [
        "data = pd.read_csv(\"tsfinal02.csv\")"
      ],
      "metadata": {
        "id": "hn-owEFB3IAE"
      },
      "execution_count": null,
      "outputs": []
    },
    {
      "cell_type": "code",
      "source": [
        "def sliding_window(data_, lag_size = 50):  \n",
        "  N = len(data_)\n",
        "  data = np.array(data_)\n",
        "  X = []\n",
        "  y = []\n",
        "  for i in range(N-lag_size-1):\n",
        "    X.append(data[i:i+lag_size])\n",
        "    y.append(data[i+lag_size])\n",
        "  return np.array(X), np.array(y)"
      ],
      "metadata": {
        "id": "j3iFT1103ci4"
      },
      "execution_count": null,
      "outputs": []
    },
    {
      "cell_type": "code",
      "source": [
        "data"
      ],
      "metadata": {
        "colab": {
          "base_uri": "https://localhost:8080/",
          "height": 423
        },
        "id": "2BOOdui7Blyl",
        "outputId": "f6ef6261-1116-45e0-cc2a-80f5b34d745f"
      },
      "execution_count": null,
      "outputs": [
        {
          "output_type": "execute_result",
          "data": {
            "text/plain": [
              "      Unnamed: 0          0\n",
              "0              0   0.000000\n",
              "1              1  -0.189041\n",
              "2              2  -0.207609\n",
              "3              3   0.124619\n",
              "4              4  -1.054743\n",
              "...          ...        ...\n",
              "996          996  -6.636485\n",
              "997          997  -7.872254\n",
              "998          998  -7.150661\n",
              "999          999 -10.163286\n",
              "1000        1000 -12.459252\n",
              "\n",
              "[1001 rows x 2 columns]"
            ],
            "text/html": [
              "\n",
              "  <div id=\"df-95987c0c-54c3-4f26-881c-6c8a4d473d33\">\n",
              "    <div class=\"colab-df-container\">\n",
              "      <div>\n",
              "<style scoped>\n",
              "    .dataframe tbody tr th:only-of-type {\n",
              "        vertical-align: middle;\n",
              "    }\n",
              "\n",
              "    .dataframe tbody tr th {\n",
              "        vertical-align: top;\n",
              "    }\n",
              "\n",
              "    .dataframe thead th {\n",
              "        text-align: right;\n",
              "    }\n",
              "</style>\n",
              "<table border=\"1\" class=\"dataframe\">\n",
              "  <thead>\n",
              "    <tr style=\"text-align: right;\">\n",
              "      <th></th>\n",
              "      <th>Unnamed: 0</th>\n",
              "      <th>0</th>\n",
              "    </tr>\n",
              "  </thead>\n",
              "  <tbody>\n",
              "    <tr>\n",
              "      <th>0</th>\n",
              "      <td>0</td>\n",
              "      <td>0.000000</td>\n",
              "    </tr>\n",
              "    <tr>\n",
              "      <th>1</th>\n",
              "      <td>1</td>\n",
              "      <td>-0.189041</td>\n",
              "    </tr>\n",
              "    <tr>\n",
              "      <th>2</th>\n",
              "      <td>2</td>\n",
              "      <td>-0.207609</td>\n",
              "    </tr>\n",
              "    <tr>\n",
              "      <th>3</th>\n",
              "      <td>3</td>\n",
              "      <td>0.124619</td>\n",
              "    </tr>\n",
              "    <tr>\n",
              "      <th>4</th>\n",
              "      <td>4</td>\n",
              "      <td>-1.054743</td>\n",
              "    </tr>\n",
              "    <tr>\n",
              "      <th>...</th>\n",
              "      <td>...</td>\n",
              "      <td>...</td>\n",
              "    </tr>\n",
              "    <tr>\n",
              "      <th>996</th>\n",
              "      <td>996</td>\n",
              "      <td>-6.636485</td>\n",
              "    </tr>\n",
              "    <tr>\n",
              "      <th>997</th>\n",
              "      <td>997</td>\n",
              "      <td>-7.872254</td>\n",
              "    </tr>\n",
              "    <tr>\n",
              "      <th>998</th>\n",
              "      <td>998</td>\n",
              "      <td>-7.150661</td>\n",
              "    </tr>\n",
              "    <tr>\n",
              "      <th>999</th>\n",
              "      <td>999</td>\n",
              "      <td>-10.163286</td>\n",
              "    </tr>\n",
              "    <tr>\n",
              "      <th>1000</th>\n",
              "      <td>1000</td>\n",
              "      <td>-12.459252</td>\n",
              "    </tr>\n",
              "  </tbody>\n",
              "</table>\n",
              "<p>1001 rows × 2 columns</p>\n",
              "</div>\n",
              "      <button class=\"colab-df-convert\" onclick=\"convertToInteractive('df-95987c0c-54c3-4f26-881c-6c8a4d473d33')\"\n",
              "              title=\"Convert this dataframe to an interactive table.\"\n",
              "              style=\"display:none;\">\n",
              "        \n",
              "  <svg xmlns=\"http://www.w3.org/2000/svg\" height=\"24px\"viewBox=\"0 0 24 24\"\n",
              "       width=\"24px\">\n",
              "    <path d=\"M0 0h24v24H0V0z\" fill=\"none\"/>\n",
              "    <path d=\"M18.56 5.44l.94 2.06.94-2.06 2.06-.94-2.06-.94-.94-2.06-.94 2.06-2.06.94zm-11 1L8.5 8.5l.94-2.06 2.06-.94-2.06-.94L8.5 2.5l-.94 2.06-2.06.94zm10 10l.94 2.06.94-2.06 2.06-.94-2.06-.94-.94-2.06-.94 2.06-2.06.94z\"/><path d=\"M17.41 7.96l-1.37-1.37c-.4-.4-.92-.59-1.43-.59-.52 0-1.04.2-1.43.59L10.3 9.45l-7.72 7.72c-.78.78-.78 2.05 0 2.83L4 21.41c.39.39.9.59 1.41.59.51 0 1.02-.2 1.41-.59l7.78-7.78 2.81-2.81c.8-.78.8-2.07 0-2.86zM5.41 20L4 18.59l7.72-7.72 1.47 1.35L5.41 20z\"/>\n",
              "  </svg>\n",
              "      </button>\n",
              "      \n",
              "  <style>\n",
              "    .colab-df-container {\n",
              "      display:flex;\n",
              "      flex-wrap:wrap;\n",
              "      gap: 12px;\n",
              "    }\n",
              "\n",
              "    .colab-df-convert {\n",
              "      background-color: #E8F0FE;\n",
              "      border: none;\n",
              "      border-radius: 50%;\n",
              "      cursor: pointer;\n",
              "      display: none;\n",
              "      fill: #1967D2;\n",
              "      height: 32px;\n",
              "      padding: 0 0 0 0;\n",
              "      width: 32px;\n",
              "    }\n",
              "\n",
              "    .colab-df-convert:hover {\n",
              "      background-color: #E2EBFA;\n",
              "      box-shadow: 0px 1px 2px rgba(60, 64, 67, 0.3), 0px 1px 3px 1px rgba(60, 64, 67, 0.15);\n",
              "      fill: #174EA6;\n",
              "    }\n",
              "\n",
              "    [theme=dark] .colab-df-convert {\n",
              "      background-color: #3B4455;\n",
              "      fill: #D2E3FC;\n",
              "    }\n",
              "\n",
              "    [theme=dark] .colab-df-convert:hover {\n",
              "      background-color: #434B5C;\n",
              "      box-shadow: 0px 1px 3px 1px rgba(0, 0, 0, 0.15);\n",
              "      filter: drop-shadow(0px 1px 2px rgba(0, 0, 0, 0.3));\n",
              "      fill: #FFFFFF;\n",
              "    }\n",
              "  </style>\n",
              "\n",
              "      <script>\n",
              "        const buttonEl =\n",
              "          document.querySelector('#df-95987c0c-54c3-4f26-881c-6c8a4d473d33 button.colab-df-convert');\n",
              "        buttonEl.style.display =\n",
              "          google.colab.kernel.accessAllowed ? 'block' : 'none';\n",
              "\n",
              "        async function convertToInteractive(key) {\n",
              "          const element = document.querySelector('#df-95987c0c-54c3-4f26-881c-6c8a4d473d33');\n",
              "          const dataTable =\n",
              "            await google.colab.kernel.invokeFunction('convertToInteractive',\n",
              "                                                     [key], {});\n",
              "          if (!dataTable) return;\n",
              "\n",
              "          const docLinkHtml = 'Like what you see? Visit the ' +\n",
              "            '<a target=\"_blank\" href=https://colab.research.google.com/notebooks/data_table.ipynb>data table notebook</a>'\n",
              "            + ' to learn more about interactive tables.';\n",
              "          element.innerHTML = '';\n",
              "          dataTable['output_type'] = 'display_data';\n",
              "          await google.colab.output.renderOutput(dataTable, element);\n",
              "          const docLink = document.createElement('div');\n",
              "          docLink.innerHTML = docLinkHtml;\n",
              "          element.appendChild(docLink);\n",
              "        }\n",
              "      </script>\n",
              "    </div>\n",
              "  </div>\n",
              "  "
            ]
          },
          "metadata": {},
          "execution_count": 13
        }
      ]
    },
    {
      "cell_type": "code",
      "source": [
        "data = data.iloc[:,-1]"
      ],
      "metadata": {
        "id": "p5TFteCqBmlJ"
      },
      "execution_count": null,
      "outputs": []
    },
    {
      "cell_type": "code",
      "source": [
        "data"
      ],
      "metadata": {
        "colab": {
          "base_uri": "https://localhost:8080/"
        },
        "id": "-0WOUEtpCsiR",
        "outputId": "2948568e-7cfd-4926-b58c-1db3bbaba3b1"
      },
      "execution_count": null,
      "outputs": [
        {
          "output_type": "execute_result",
          "data": {
            "text/plain": [
              "0        0.000000\n",
              "1       -0.189041\n",
              "2       -0.207609\n",
              "3        0.124619\n",
              "4       -1.054743\n",
              "          ...    \n",
              "996     -6.636485\n",
              "997     -7.872254\n",
              "998     -7.150661\n",
              "999    -10.163286\n",
              "1000   -12.459252\n",
              "Name: 0, Length: 1001, dtype: float64"
            ]
          },
          "metadata": {},
          "execution_count": 15
        }
      ]
    },
    {
      "cell_type": "markdown",
      "source": [
        "1"
      ],
      "metadata": {
        "id": "gBvSE7EwDid2"
      }
    },
    {
      "cell_type": "code",
      "source": [
        "plt.plot(data)"
      ],
      "metadata": {
        "colab": {
          "base_uri": "https://localhost:8080/",
          "height": 287
        },
        "id": "zRQM2hvmCtP8",
        "outputId": "6e78fbf5-847d-4c78-a4ec-c772570b3c41"
      },
      "execution_count": null,
      "outputs": [
        {
          "output_type": "execute_result",
          "data": {
            "text/plain": [
              "[<matplotlib.lines.Line2D at 0x7f5b28989670>]"
            ]
          },
          "metadata": {},
          "execution_count": 16
        },
        {
          "output_type": "display_data",
          "data": {
            "text/plain": [
              "<Figure size 432x288 with 1 Axes>"
            ],
            "image/png": "[encoded data removed]"
          },
          "metadata": {
            "needs_background": "light"
          }
        }
      ]
    },
    {
      "cell_type": "code",
      "source": [
        "def splitter(data, alpha = 0.8):  ### We split the data into 0.8 and 0.2  train test splitting \n",
        "  N = len(data)\n",
        "  N_ = int(alpha*N)\n",
        "  data_train = data[:N_]\n",
        "  data_test = data[N_:]\n",
        "  return data_train, data_test"
      ],
      "metadata": {
        "id": "LOAYyhsVCv7t"
      },
      "execution_count": null,
      "outputs": []
    },
    {
      "cell_type": "code",
      "source": [
        "data_train, data_test = splitter(data)"
      ],
      "metadata": {
        "id": "OGPzHLu9DUdW"
      },
      "execution_count": null,
      "outputs": []
    },
    {
      "cell_type": "code",
      "source": [
        "plt.figure(figsize= (10,5))\n",
        "plt.plot(data_train, label =\"train\")\n",
        "plt.plot(data_test, label = \"test\")\n",
        "plt.legend()\n",
        "plt.show()"
      ],
      "metadata": {
        "colab": {
          "base_uri": "https://localhost:8080/",
          "height": 324
        },
        "id": "pKu4o0qkDZiR",
        "outputId": "6bb10854-8d75-4059-f81f-b1f36e07e56b"
      },
      "execution_count": null,
      "outputs": [
        {
          "output_type": "display_data",
          "data": {
            "text/plain": [
              "<Figure size 720x360 with 1 Axes>"
            ],
            "image/png": "[encoded data removed]"
          },
          "metadata": {
            "needs_background": "light"
          }
        }
      ]
    },
    {
      "cell_type": "code",
      "source": [
        "def sliding_window(data:list, window_size:int = 100):\n",
        "  data = np.array(data)\n",
        "  X = []\n",
        "  y = []\n",
        "  i = 0\n",
        "  while True:\n",
        "    try:\n",
        "      y.append(data[i+window_size])\n",
        "      X.append(data[i:i+window_size])\n",
        "      i += 1\n",
        "    except Exception:\n",
        "      print(f\"We have reached the end of the list! There are total number of {i} rows in your data\")\n",
        "      break\n",
        "  return np.array(X), np.array(y)"
      ],
      "metadata": {
        "id": "ulZeGRv4Dcie"
      },
      "execution_count": null,
      "outputs": []
    },
    {
      "cell_type": "code",
      "source": [
        "(X_train, y_train), (X_test, y_test) = sliding_window(data_train), sliding_window(data_test)"
      ],
      "metadata": {
        "colab": {
          "base_uri": "https://localhost:8080/"
        },
        "id": "mkuXkKPSD54T",
        "outputId": "44d86674-661e-45f3-e261-e34fa385eddb"
      },
      "execution_count": null,
      "outputs": [
        {
          "output_type": "stream",
          "name": "stdout",
          "text": [
            "We have reached the end of the list! There are total number of 700 rows in your data\n",
            "We have reached the end of the list! There are total number of 101 rows in your data\n"
          ]
        }
      ]
    },
    {
      "cell_type": "markdown",
      "source": [
        "KNN"
      ],
      "metadata": {
        "id": "8DAwwn2DE4aW"
      }
    },
    {
      "cell_type": "code",
      "source": [
        "from sklearn.neighbors import KNeighborsRegressor\n",
        "knn = KNeighborsRegressor(n_jobs = -1, n_neighbors = 3)\n",
        "knn.fit(X_train, y_train)\n",
        "knn.score(X_test, y_test)   #### this gives R2 score, no need to import sklearn's r2score.\n",
        "y_pred = knn.predict(X_test)"
      ],
      "metadata": {
        "id": "lP3h5jfqD9iM"
      },
      "execution_count": null,
      "outputs": []
    },
    {
      "cell_type": "code",
      "source": [
        "\n",
        "plt.plot(y_pred, label = \"predicted\")\n",
        "plt.plot(y_test, label = \"test\")\n",
        "plt.legend()\n",
        "plt.show()"
      ],
      "metadata": {
        "colab": {
          "base_uri": "https://localhost:8080/",
          "height": 265
        },
        "id": "Z1U1NHyFE7XP",
        "outputId": "8bcf6c32-54ab-4b80-c1cd-dba3ea6ba843"
      },
      "execution_count": null,
      "outputs": [
        {
          "output_type": "display_data",
          "data": {
            "text/plain": [
              "<Figure size 432x288 with 1 Axes>"
            ],
            "image/png": "[encoded data removed]"
          },
          "metadata": {
            "needs_background": "light"
          }
        }
      ]
    },
    {
      "cell_type": "code",
      "source": [
        "plt.plot(y_test - y_pred, label = \"residuals\")\n",
        "plt.legend()\n",
        "plt.show()"
      ],
      "metadata": {
        "colab": {
          "base_uri": "https://localhost:8080/",
          "height": 265
        },
        "id": "pnCxz_fYE-Dm",
        "outputId": "9bf06d2f-bc15-4c67-810d-600523f2ca90"
      },
      "execution_count": null,
      "outputs": [
        {
          "output_type": "display_data",
          "data": {
            "text/plain": [
              "<Figure size 432x288 with 1 Axes>"
            ],
            "image/png": "[encoded data removed]"
          },
          "metadata": {
            "needs_background": "light"
          }
        }
      ]
    },
    {
      "cell_type": "code",
      "source": [
        "np.mean(y_test - y_pred), np.std(y_test - y_pred, ddof = 1)"
      ],
      "metadata": {
        "colab": {
          "base_uri": "https://localhost:8080/"
        },
        "id": "zWUFs4xjFEOW",
        "outputId": "f9a57631-f141-4c3f-ea7a-de2e878849c2"
      },
      "execution_count": null,
      "outputs": [
        {
          "output_type": "execute_result",
          "data": {
            "text/plain": [
              "(-14.109126339155535, 6.849280939506011)"
            ]
          },
          "metadata": {},
          "execution_count": 29
        }
      ]
    },
    {
      "cell_type": "markdown",
      "source": [
        "Decision Tree"
      ],
      "metadata": {
        "id": "7MfKJ_YiFLXw"
      }
    },
    {
      "cell_type": "code",
      "source": [
        "from sklearn.tree import DecisionTreeRegressor\n",
        "dt = DecisionTreeRegressor()\n",
        "dt.fit(X_train, y_train)\n",
        "score = dt.score(X_test, y_test)\n",
        "print(score)   #### this give R2 score, no need to import slearn r2score.\n",
        "y_pred = dt.predict(X_test)"
      ],
      "metadata": {
        "colab": {
          "base_uri": "https://localhost:8080/"
        },
        "id": "3nEhYwrqFHqt",
        "outputId": "b19690ca-04ad-4758-a01b-fe9b8c2721c1"
      },
      "execution_count": null,
      "outputs": [
        {
          "output_type": "stream",
          "name": "stdout",
          "text": [
            "0.9779463700741227\n"
          ]
        }
      ]
    },
    {
      "cell_type": "code",
      "source": [
        "plt.plot(y_pred, label = \"predicted\")\n",
        "plt.plot(y_test, label = \"test\")\n",
        "plt.legend()\n",
        "plt.show()"
      ],
      "metadata": {
        "colab": {
          "base_uri": "https://localhost:8080/",
          "height": 265
        },
        "id": "Ig1MD9SQFOWK",
        "outputId": "fe60e338-fd67-4698-d592-b4f00f96853b"
      },
      "execution_count": null,
      "outputs": [
        {
          "output_type": "display_data",
          "data": {
            "text/plain": [
              "<Figure size 432x288 with 1 Axes>"
            ],
            "image/png": "[encoded data removed]"
          },
          "metadata": {
            "needs_background": "light"
          }
        }
      ]
    },
    {
      "cell_type": "code",
      "source": [
        "plt.plot(y_test - y_pred, label = \"residuals\")\n",
        "plt.legend()\n",
        "plt.show()"
      ],
      "metadata": {
        "colab": {
          "base_uri": "https://localhost:8080/",
          "height": 265
        },
        "id": "IG4tk0gRFRes",
        "outputId": "f89f5535-379b-4c4e-a5ee-e7de2f0c2c69"
      },
      "execution_count": null,
      "outputs": [
        {
          "output_type": "display_data",
          "data": {
            "text/plain": [
              "<Figure size 432x288 with 1 Axes>"
            ],
            "image/png": "[encoded data removed]"
          },
          "metadata": {
            "needs_background": "light"
          }
        }
      ]
    },
    {
      "cell_type": "code",
      "source": [
        "np.mean(y_test - y_pred), np.std(y_test - y_pred, ddof = 1)"
      ],
      "metadata": {
        "colab": {
          "base_uri": "https://localhost:8080/"
        },
        "id": "LH1RagMoFWYh",
        "outputId": "3c4f0566-c5c8-4c6e-e416-0bf8009bac72"
      },
      "execution_count": null,
      "outputs": [
        {
          "output_type": "execute_result",
          "data": {
            "text/plain": [
              "(-1.0337579905349639, 2.242933023324009)"
            ]
          },
          "metadata": {},
          "execution_count": 33
        }
      ]
    },
    {
      "cell_type": "markdown",
      "source": [
        "Neural Networks"
      ],
      "metadata": {
        "id": "1OSCp_BVFdS3"
      }
    },
    {
      "cell_type": "code",
      "source": [
        "\n",
        "from sklearn.neural_network import MLPRegressor\n",
        "ml = MLPRegressor(hidden_layer_sizes = (50,25))\n",
        "ml.fit(X_train, y_train)\n",
        "score = ml.score(X_test, y_test)\n",
        "print(score)   #### this gives R2 score, no need to import sklearn r2score.\n",
        "y_pred = ml.predict(X_test)"
      ],
      "metadata": {
        "colab": {
          "base_uri": "https://localhost:8080/"
        },
        "id": "y165V5uQFZ_K",
        "outputId": "a9b8ef77-9d82-40a8-99a9-2a972ffd7121"
      },
      "execution_count": null,
      "outputs": [
        {
          "output_type": "stream",
          "name": "stdout",
          "text": [
            "0.40990921830146565\n"
          ]
        },
        {
          "output_type": "stream",
          "name": "stderr",
          "text": [
            "/usr/local/lib/python3.8/dist-packages/sklearn/neural_network/_multilayer_perceptron.py:692: ConvergenceWarning: Stochastic Optimizer: Maximum iterations (200) reached and the optimization hasn't converged yet.\n",
            "  warnings.warn(\n"
          ]
        }
      ]
    },
    {
      "cell_type": "code",
      "source": [
        "plt.plot(y_pred, label = \"predicted\")\n",
        "plt.plot(y_test, label = \"predicted\")\n",
        "plt.legend()\n",
        "plt.show()"
      ],
      "metadata": {
        "colab": {
          "base_uri": "https://localhost:8080/",
          "height": 265
        },
        "id": "pHqdP-oJFi8_",
        "outputId": "886a5e11-c8e5-47f3-884d-dc3fff62cbd5"
      },
      "execution_count": null,
      "outputs": [
        {
          "output_type": "display_data",
          "data": {
            "text/plain": [
              "<Figure size 432x288 with 1 Axes>"
            ],
            "image/png": "[encoded data removed]"
          },
          "metadata": {
            "needs_background": "light"
          }
        }
      ]
    },
    {
      "cell_type": "code",
      "source": [
        "plt.plot(y_test - y_pred, label = \"residuals\")\n",
        "plt.legend()\n",
        "plt.show()"
      ],
      "metadata": {
        "colab": {
          "base_uri": "https://localhost:8080/",
          "height": 269
        },
        "id": "5vyzkDQiFl6a",
        "outputId": "693c369f-e102-4b1d-8ca4-e31393394ea9"
      },
      "execution_count": null,
      "outputs": [
        {
          "output_type": "display_data",
          "data": {
            "text/plain": [
              "<Figure size 432x288 with 1 Axes>"
            ],
            "image/png": "[encoded data removed]"
          },
          "metadata": {
            "needs_background": "light"
          }
        }
      ]
    },
    {
      "cell_type": "code",
      "source": [
        "np.mean(y_test - y_pred), np.std(y_test - y_pred, ddof = 1)"
      ],
      "metadata": {
        "colab": {
          "base_uri": "https://localhost:8080/"
        },
        "id": "sp-L44guFpR2",
        "outputId": "df94e7a2-b8b7-4f19-d70c-e53305d51c5f"
      },
      "execution_count": null,
      "outputs": [
        {
          "output_type": "execute_result",
          "data": {
            "text/plain": [
              "(-12.031089664052052, 4.158558295153309)"
            ]
          },
          "metadata": {},
          "execution_count": 37
        }
      ]
    },
    {
      "cell_type": "code",
      "source": [
        "ml.coefs_"
      ],
      "metadata": {
        "colab": {
          "base_uri": "https://localhost:8080/"
        },
        "id": "BFjPfCLRFr-E",
        "outputId": "b99f1f77-af8e-40c4-9ef4-553959a2babc"
      },
      "execution_count": null,
      "outputs": [
        {
          "output_type": "execute_result",
          "data": {
            "text/plain": [
              "[array([[ 0.08926871, -0.17203678, -0.02698312, ..., -0.0672179 ,\n",
              "         -0.19284684, -0.11092929],\n",
              "        [ 0.06509244, -0.16442462, -0.07259952, ...,  0.11964564,\n",
              "          0.16460939,  0.17068653],\n",
              "        [ 0.04140927,  0.03552864, -0.18264455, ...,  0.13720437,\n",
              "          0.1712263 ,  0.1125657 ],\n",
              "        ...,\n",
              "        [-0.0979299 , -0.04200872,  0.06270215, ...,  0.00395311,\n",
              "         -0.18976316, -0.03244681],\n",
              "        [-0.06486539, -0.27696825, -0.08536192, ..., -0.19910092,\n",
              "         -0.03769402, -0.04424318],\n",
              "        [ 0.16268801, -0.06321786, -0.05633286, ...,  0.1384729 ,\n",
              "         -0.21151202,  0.06532161]]),\n",
              " array([[ 0.10640316,  0.29017089, -0.01234592, ..., -0.018682  ,\n",
              "         -0.20906132,  0.09237592],\n",
              "        [-0.32119785,  0.04299443, -0.04531007, ...,  0.27834661,\n",
              "          0.1171839 , -0.21874689],\n",
              "        [-0.28557747,  0.04806049, -0.05386316, ..., -0.27407378,\n",
              "         -0.07732392, -0.10128877],\n",
              "        ...,\n",
              "        [-0.07387912, -0.06152919, -0.25125679, ...,  0.06309084,\n",
              "         -0.23450675,  0.14870207],\n",
              "        [ 0.24195885,  0.21374853, -0.27154667, ...,  0.18271405,\n",
              "          0.26334663, -0.09653005],\n",
              "        [-0.06348647,  0.14421359,  0.17943993, ..., -0.29582395,\n",
              "         -0.16926428, -0.15457628]]),\n",
              " array([[ 0.1206537 ],\n",
              "        [ 0.21295173],\n",
              "        [ 0.19738025],\n",
              "        [ 0.25963728],\n",
              "        [ 0.16785503],\n",
              "        [-0.03989549],\n",
              "        [ 0.28657016],\n",
              "        [ 0.10228822],\n",
              "        [-0.04515953],\n",
              "        [ 0.40391823],\n",
              "        [-0.42206935],\n",
              "        [-0.22099427],\n",
              "        [ 0.37061407],\n",
              "        [ 0.24479455],\n",
              "        [-0.41880436],\n",
              "        [-0.15154312],\n",
              "        [-0.21016097],\n",
              "        [ 0.29538533],\n",
              "        [-0.29594561],\n",
              "        [-0.46296631],\n",
              "        [ 0.0161507 ],\n",
              "        [-0.45541533],\n",
              "        [ 0.31975116],\n",
              "        [-0.03956121],\n",
              "        [-0.35537221]])]"
            ]
          },
          "metadata": {},
          "execution_count": 38
        }
      ]
    },
    {
      "cell_type": "markdown",
      "source": [
        "Second Trial"
      ],
      "metadata": {
        "id": "1Nxp45wqImHW"
      }
    },
    {
      "cell_type": "code",
      "source": [
        "from statsmodels.graphics.tsaplots import plot_pacf, plot_acf"
      ],
      "metadata": {
        "id": "fwD0Sv_sFxJv"
      },
      "execution_count": null,
      "outputs": []
    },
    {
      "cell_type": "code",
      "source": [
        "plot_pacf(data, lags = 100); "
      ],
      "metadata": {
        "colab": {
          "base_uri": "https://localhost:8080/",
          "height": 317
        },
        "id": "HvVsQ80UJ__w",
        "outputId": "91955cff-19b0-44fd-a9b8-db7be6754ad5"
      },
      "execution_count": null,
      "outputs": [
        {
          "output_type": "stream",
          "name": "stderr",
          "text": [
            "/usr/local/lib/python3.8/dist-packages/statsmodels/regression/linear_model.py:1434: RuntimeWarning: invalid value encountered in sqrt\n",
            "  return rho, np.sqrt(sigmasq)\n"
          ]
        },
        {
          "output_type": "display_data",
          "data": {
            "text/plain": [
              "<Figure size 432x288 with 1 Axes>"
            ],
            "image/png": "[encoded data removed]"
          },
          "metadata": {
            "needs_background": "light"
          }
        }
      ]
    },
    {
      "cell_type": "code",
      "source": [
        "\n",
        "n = len(data)\n",
        "alpha = 0.8 ### where to split the data\n",
        "N = int(n*alpha)\n",
        "train = data[:N]\n",
        "test = data[N:]\n",
        "     "
      ],
      "metadata": {
        "id": "wjMmkEKyKgsU"
      },
      "execution_count": null,
      "outputs": []
    },
    {
      "cell_type": "code",
      "source": [
        "def sliding_window(data_, lag_size = 50):  #### we picked the 50 here basically by looking at the first picture.\n",
        "  N = len(data_)\n",
        "  data = np.array(data_)\n",
        "  X = []\n",
        "  y = []\n",
        "  for i in range(N-lag_size-1):\n",
        "    X.append(data[i:i+lag_size])\n",
        "    y.append(data[i+lag_size])\n",
        "  return np.array(X), np.array(y)"
      ],
      "metadata": {
        "id": "ngl_7gHZKQj-"
      },
      "execution_count": null,
      "outputs": []
    },
    {
      "cell_type": "code",
      "source": [
        "X_train, y_train = sliding_window(train, 50)\n",
        "X_test, y_test = sliding_window(test, 50)"
      ],
      "metadata": {
        "id": "C2VzHJ7kKQgE"
      },
      "execution_count": null,
      "outputs": []
    },
    {
      "cell_type": "code",
      "source": [
        "import sklearn  \n",
        "from sklearn.neighbors import KNeighborsRegressor\n",
        "knn = KNeighborsRegressor(n_jobs = -1)\n",
        "knn.fit(X_train, y_train),\n",
        "knn.score(X_test, y_test)"
      ],
      "metadata": {
        "colab": {
          "base_uri": "https://localhost:8080/"
        },
        "id": "62bqUizrKHrT",
        "outputId": "a8c42c9a-a519-45d6-e19b-1f7234fcb235"
      },
      "execution_count": null,
      "outputs": [
        {
          "output_type": "execute_result",
          "data": {
            "text/plain": [
              "0.6280614910097548"
            ]
          },
          "metadata": {},
          "execution_count": 52
        }
      ]
    },
    {
      "cell_type": "code",
      "source": [
        "from sklearn.neural_network import MLPRegressor \n",
        "mlp = MLPRegressor()\n",
        "mlp.fit(X_train, y_train)\n",
        "mlp.score(X_test, y_test)"
      ],
      "metadata": {
        "colab": {
          "base_uri": "https://localhost:8080/"
        },
        "id": "Uvv6Ol61KzwP",
        "outputId": "6ecdb6be-9198-4225-ce82-4d11f1e54b94"
      },
      "execution_count": null,
      "outputs": [
        {
          "output_type": "execute_result",
          "data": {
            "text/plain": [
              "0.9760361548868497"
            ]
          },
          "metadata": {},
          "execution_count": 53
        }
      ]
    },
    {
      "cell_type": "code",
      "source": [
        "from sklearn.model_selection import GridSearchCV, TimeSeriesSplit"
      ],
      "metadata": {
        "id": "KBt7kJxsK2Cp"
      },
      "execution_count": null,
      "outputs": []
    },
    {
      "cell_type": "code",
      "source": [
        "splitter = TimeSeriesSplit(n_splits = 5)"
      ],
      "metadata": {
        "id": "DZlk4ZLJK7EV"
      },
      "execution_count": null,
      "outputs": []
    },
    {
      "cell_type": "code",
      "source": [
        "knn_params = {\"n_neighbors\":range(3,7), \"weights\":[\"uniform\", \"distance\"]}  ### parameters of knn\n",
        "mlp_params = {\"hidden_layer_sizes\":range(5, 40)}"
      ],
      "metadata": {
        "id": "ujSBVc-7LANq"
      },
      "execution_count": null,
      "outputs": []
    },
    {
      "cell_type": "code",
      "source": [
        "cv = GridSearchCV(mlp, param_grid = mlp_params, n_jobs = -1, cv = splitter)\n",
        "cv.fit(X_train, y_train)"
      ],
      "metadata": {
        "colab": {
          "base_uri": "https://localhost:8080/"
        },
        "id": "2jQAiVbBLCda",
        "outputId": "ed71bebf-a584-409a-d42e-386713c13f1a"
      },
      "execution_count": null,
      "outputs": [
        {
          "output_type": "stream",
          "name": "stderr",
          "text": [
            "/usr/local/lib/python3.8/dist-packages/sklearn/neural_network/_multilayer_perceptron.py:692: ConvergenceWarning: Stochastic Optimizer: Maximum iterations (200) reached and the optimization hasn't converged yet.\n",
            "  warnings.warn(\n"
          ]
        },
        {
          "output_type": "execute_result",
          "data": {
            "text/plain": [
              "GridSearchCV(cv=TimeSeriesSplit(gap=0, max_train_size=None, n_splits=5, test_size=None),\n",
              "             estimator=MLPRegressor(), n_jobs=-1,\n",
              "             param_grid={'hidden_layer_sizes': range(5, 40)})"
            ]
          },
          "metadata": {},
          "execution_count": 57
        }
      ]
    },
    {
      "cell_type": "code",
      "source": [
        "cv.best_params_"
      ],
      "metadata": {
        "colab": {
          "base_uri": "https://localhost:8080/"
        },
        "id": "_yYDXUpYLGLE",
        "outputId": "9598d95a-675e-4aee-e1d6-e5f3a2836deb"
      },
      "execution_count": null,
      "outputs": [
        {
          "output_type": "execute_result",
          "data": {
            "text/plain": [
              "{'hidden_layer_sizes': 36}"
            ]
          },
          "metadata": {},
          "execution_count": 58
        }
      ]
    },
    {
      "cell_type": "code",
      "source": [
        "mlp_best = MLPRegressor(36) \n",
        "mlp_best.fit(X_train, y_train)\n",
        "mlp_best.score(X_test, y_test)"
      ],
      "metadata": {
        "colab": {
          "base_uri": "https://localhost:8080/"
        },
        "id": "O0wlntNALKrp",
        "outputId": "07ac2d8c-ca88-4707-d12b-6f215398333d"
      },
      "execution_count": null,
      "outputs": [
        {
          "output_type": "stream",
          "name": "stderr",
          "text": [
            "/usr/local/lib/python3.8/dist-packages/sklearn/neural_network/_multilayer_perceptron.py:692: ConvergenceWarning: Stochastic Optimizer: Maximum iterations (200) reached and the optimization hasn't converged yet.\n",
            "  warnings.warn(\n"
          ]
        },
        {
          "output_type": "execute_result",
          "data": {
            "text/plain": [
              "0.9725947195999396"
            ]
          },
          "metadata": {},
          "execution_count": 59
        }
      ]
    },
    {
      "cell_type": "code",
      "source": [
        "cv = GridSearchCV(knn, param_grid = knn_params, n_jobs = -1, cv = splitter)  #### this takes a lot of time... gotta wait.\n",
        "cv.fit(X_train, y_train)"
      ],
      "metadata": {
        "colab": {
          "base_uri": "https://localhost:8080/"
        },
        "id": "Efh2yAiILSKV",
        "outputId": "e71663ea-acce-485b-c075-76461cdc9122"
      },
      "execution_count": null,
      "outputs": [
        {
          "output_type": "execute_result",
          "data": {
            "text/plain": [
              "GridSearchCV(cv=TimeSeriesSplit(gap=0, max_train_size=None, n_splits=5, test_size=None),\n",
              "             estimator=KNeighborsRegressor(n_jobs=-1), n_jobs=-1,\n",
              "             param_grid={'n_neighbors': range(3, 7),\n",
              "                         'weights': ['uniform', 'distance']})"
            ]
          },
          "metadata": {},
          "execution_count": 60
        }
      ]
    },
    {
      "cell_type": "code",
      "source": [
        "cv.best_params_"
      ],
      "metadata": {
        "id": "KD8DgMtfLVGE",
        "outputId": "e86bde21-9017-4165-d20e-bc2919203ddc",
        "colab": {
          "base_uri": "https://localhost:8080/"
        }
      },
      "execution_count": null,
      "outputs": [
        {
          "output_type": "execute_result",
          "data": {
            "text/plain": [
              "{'n_neighbors': 6, 'weights': 'distance'}"
            ]
          },
          "metadata": {},
          "execution_count": 61
        }
      ]
    },
    {
      "cell_type": "code",
      "source": [
        "knn = KNeighborsRegressor(**cv.best_params_) \n",
        "knn.fit(X_train, y_train)\n",
        "knn.score(X_test, y_test)"
      ],
      "metadata": {
        "id": "fWYTEfWlLXJC",
        "outputId": "64cc0e38-a580-44a8-902b-83b7c34f17a1",
        "colab": {
          "base_uri": "https://localhost:8080/"
        }
      },
      "execution_count": null,
      "outputs": [
        {
          "output_type": "execute_result",
          "data": {
            "text/plain": [
              "0.6429094824644059"
            ]
          },
          "metadata": {},
          "execution_count": 62
        }
      ]
    },
    {
      "cell_type": "code",
      "source": [],
      "metadata": {
        "id": "EZ92AVQ5LZus"
      },
      "execution_count": null,
      "outputs": []
    }
  ]
}